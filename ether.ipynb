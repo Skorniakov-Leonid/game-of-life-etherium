{
 "cells": [
  {
   "metadata": {
    "ExecuteTime": {
     "end_time": "2025-03-06T02:47:25.299292Z",
     "start_time": "2025-03-06T02:47:25.299292Z"
    }
   },
   "cell_type": "code",
   "source": [
    "from web3 import Web3\n",
    "\n",
    "w3 = Web3(Web3.HTTPProvider(\"http://127.0.0.1:32784\"))\n",
    "\n",
    "if w3.is_connected():\n",
    "    print(\"Подключено\")\n",
    "else:\n",
    "    print(\"Не подключено(\")"
   ],
   "id": "initial_id",
   "outputs": [],
   "execution_count": null
  },
  {
   "metadata": {
    "ExecuteTime": {
     "end_time": "2025-03-06T02:45:24.809216Z",
     "start_time": "2025-03-06T02:45:24.803956Z"
    }
   },
   "cell_type": "code",
   "source": [
    "from_address = \"0x8943545177806ED17B9F23F0a21ee5948eCaa776\"\n",
    "from_address_prv = \"bcdf20249abf0ed6d944c0288fad489e33f66b3960d9e6229c1cd214ed3bbe31\"\n",
    "\n",
    "to_address = \"0x614561D2d143621E126e87831AEF287678B442b8\"\n",
    "to_address_prv = \"\""
   ],
   "id": "4aa032ad20797d28",
   "outputs": [],
   "execution_count": 29
  },
  {
   "metadata": {
    "ExecuteTime": {
     "end_time": "2025-03-06T02:45:24.921242Z",
     "start_time": "2025-03-06T02:45:24.810504Z"
    }
   },
   "cell_type": "code",
   "source": [
    "balance = w3.eth.get_balance(from_address)\n",
    "print(f\"Баланс отправителя: {w3.from_wei(balance, 'ether')} ETH\")\n",
    "\n",
    "balance = w3.eth.get_balance(to_address)\n",
    "print(f\"Баланс получателя: {w3.from_wei(balance, 'ether')} ETH\")"
   ],
   "id": "c4acccca7d25bf34",
   "outputs": [
    {
     "name": "stdout",
     "output_type": "stream",
     "text": [
      "Баланс отправителя: 999999969.99999854286707046 ETH\n",
      "Баланс получателя: 1000000030 ETH\n"
     ]
    }
   ],
   "execution_count": 30
  },
  {
   "metadata": {
    "ExecuteTime": {
     "end_time": "2025-03-06T02:45:25.049703Z",
     "start_time": "2025-03-06T02:45:24.922763Z"
    }
   },
   "cell_type": "code",
   "source": [
    "nonce = w3.eth.get_transaction_count(from_address)\n",
    "\n",
    "tx = {\n",
    "    'nonce': nonce,\n",
    "    'to': to_address,\n",
    "    'value': w3.to_wei(10, 'ether'),\n",
    "    'gas': 21000,\n",
    "    'gasPrice': w3.to_wei(1, 'gwei'),\n",
    "    'chainId': 3151908\n",
    "}\n",
    "\n",
    "signed_tx = w3.eth.account.sign_transaction(tx, from_address_prv)\n",
    "tx_hash = w3.eth.send_raw_transaction(signed_tx.raw_transaction)\n",
    "print(f\"Транзакция отправлена! Хэш: {w3.to_hex(tx_hash)}\")"
   ],
   "id": "72a296698116eee4",
   "outputs": [
    {
     "name": "stdout",
     "output_type": "stream",
     "text": [
      "Транзакция отправлена! Хэш: 0x54c0f1cd76c7af0aa9f10961921c07151a525b385752c80e46df8a7325fd0e0c\n"
     ]
    }
   ],
   "execution_count": 31
  },
  {
   "metadata": {
    "ExecuteTime": {
     "end_time": "2025-03-06T02:45:25.061497Z",
     "start_time": "2025-03-06T02:45:25.050859Z"
    }
   },
   "cell_type": "code",
   "source": [
    "abi = [\n",
    "\t{\n",
    "\t\t\"inputs\": [\n",
    "\t\t\t{\n",
    "\t\t\t\t\"internalType\": \"uint256\",\n",
    "\t\t\t\t\"name\": \"\",\n",
    "\t\t\t\t\"type\": \"uint256\"\n",
    "\t\t\t}\n",
    "\t\t],\n",
    "\t\t\"name\": \"activeCells\",\n",
    "\t\t\"outputs\": [\n",
    "\t\t\t{\n",
    "\t\t\t\t\"internalType\": \"int256\",\n",
    "\t\t\t\t\"name\": \"x\",\n",
    "\t\t\t\t\"type\": \"int256\"\n",
    "\t\t\t},\n",
    "\t\t\t{\n",
    "\t\t\t\t\"internalType\": \"int256\",\n",
    "\t\t\t\t\"name\": \"y\",\n",
    "\t\t\t\t\"type\": \"int256\"\n",
    "\t\t\t}\n",
    "\t\t],\n",
    "\t\t\"stateMutability\": \"view\",\n",
    "\t\t\"type\": \"function\"\n",
    "\t},\n",
    "\t{\n",
    "\t\t\"inputs\": [],\n",
    "\t\t\"name\": \"getActiveCells\",\n",
    "\t\t\"outputs\": [\n",
    "\t\t\t{\n",
    "\t\t\t\t\"components\": [\n",
    "\t\t\t\t\t{\n",
    "\t\t\t\t\t\t\"internalType\": \"int256\",\n",
    "\t\t\t\t\t\t\"name\": \"x\",\n",
    "\t\t\t\t\t\t\"type\": \"int256\"\n",
    "\t\t\t\t\t},\n",
    "\t\t\t\t\t{\n",
    "\t\t\t\t\t\t\"internalType\": \"int256\",\n",
    "\t\t\t\t\t\t\"name\": \"y\",\n",
    "\t\t\t\t\t\t\"type\": \"int256\"\n",
    "\t\t\t\t\t}\n",
    "\t\t\t\t],\n",
    "\t\t\t\t\"internalType\": \"struct GameOfLife.Cell[]\",\n",
    "\t\t\t\t\"name\": \"\",\n",
    "\t\t\t\t\"type\": \"tuple[]\"\n",
    "\t\t\t}\n",
    "\t\t],\n",
    "\t\t\"stateMutability\": \"view\",\n",
    "\t\t\"type\": \"function\"\n",
    "\t},\n",
    "\t{\n",
    "\t\t\"inputs\": [\n",
    "\t\t\t{\n",
    "\t\t\t\t\"internalType\": \"int256\",\n",
    "\t\t\t\t\"name\": \"\",\n",
    "\t\t\t\t\"type\": \"int256\"\n",
    "\t\t\t},\n",
    "\t\t\t{\n",
    "\t\t\t\t\"internalType\": \"int256\",\n",
    "\t\t\t\t\"name\": \"\",\n",
    "\t\t\t\t\"type\": \"int256\"\n",
    "\t\t\t}\n",
    "\t\t],\n",
    "\t\t\"name\": \"grid\",\n",
    "\t\t\"outputs\": [\n",
    "\t\t\t{\n",
    "\t\t\t\t\"internalType\": \"bool\",\n",
    "\t\t\t\t\"name\": \"\",\n",
    "\t\t\t\t\"type\": \"bool\"\n",
    "\t\t\t}\n",
    "\t\t],\n",
    "\t\t\"stateMutability\": \"view\",\n",
    "\t\t\"type\": \"function\"\n",
    "\t},\n",
    "\t{\n",
    "\t\t\"inputs\": [\n",
    "\t\t\t{\n",
    "\t\t\t\t\"internalType\": \"int256\",\n",
    "\t\t\t\t\"name\": \"x\",\n",
    "\t\t\t\t\"type\": \"int256\"\n",
    "\t\t\t},\n",
    "\t\t\t{\n",
    "\t\t\t\t\"internalType\": \"int256\",\n",
    "\t\t\t\t\"name\": \"y\",\n",
    "\t\t\t\t\"type\": \"int256\"\n",
    "\t\t\t}\n",
    "\t\t],\n",
    "\t\t\"name\": \"isAlive\",\n",
    "\t\t\"outputs\": [\n",
    "\t\t\t{\n",
    "\t\t\t\t\"internalType\": \"bool\",\n",
    "\t\t\t\t\"name\": \"\",\n",
    "\t\t\t\t\"type\": \"bool\"\n",
    "\t\t\t}\n",
    "\t\t],\n",
    "\t\t\"stateMutability\": \"view\",\n",
    "\t\t\"type\": \"function\"\n",
    "\t},\n",
    "\t{\n",
    "\t\t\"inputs\": [],\n",
    "\t\t\"name\": \"nextGeneration\",\n",
    "\t\t\"outputs\": [],\n",
    "\t\t\"stateMutability\": \"nonpayable\",\n",
    "\t\t\"type\": \"function\"\n",
    "\t},\n",
    "\t{\n",
    "\t\t\"inputs\": [\n",
    "\t\t\t{\n",
    "\t\t\t\t\"internalType\": \"int256\",\n",
    "\t\t\t\t\"name\": \"x\",\n",
    "\t\t\t\t\"type\": \"int256\"\n",
    "\t\t\t},\n",
    "\t\t\t{\n",
    "\t\t\t\t\"internalType\": \"int256\",\n",
    "\t\t\t\t\"name\": \"y\",\n",
    "\t\t\t\t\"type\": \"int256\"\n",
    "\t\t\t},\n",
    "\t\t\t{\n",
    "\t\t\t\t\"internalType\": \"bool\",\n",
    "\t\t\t\t\"name\": \"alive\",\n",
    "\t\t\t\t\"type\": \"bool\"\n",
    "\t\t\t}\n",
    "\t\t],\n",
    "\t\t\"name\": \"setCell\",\n",
    "\t\t\"outputs\": [],\n",
    "\t\t\"stateMutability\": \"nonpayable\",\n",
    "\t\t\"type\": \"function\"\n",
    "\t}\n",
    "]\n",
    "bytecode = '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'"
   ],
   "id": "4b009973f370d010",
   "outputs": [],
   "execution_count": 32
  },
  {
   "metadata": {
    "ExecuteTime": {
     "end_time": "2025-03-06T02:48:10.113695Z",
     "start_time": "2025-03-06T02:48:10.051615Z"
    }
   },
   "cell_type": "code",
   "source": [
    "contract = w3.eth.contract(abi=abi, bytecode=bytecode)\n",
    "\n",
    "nonce = w3.eth.get_transaction_count(from_address)\n",
    "\n",
    "tx = contract.constructor().build_transaction({\n",
    "    'from': from_address,\n",
    "    'nonce': nonce,\n",
    "    'gas': 3000000,\n",
    "    'gasPrice': w3.to_wei('1', 'gwei'),\n",
    "    'chainId': 3151908\n",
    "})"
   ],
   "id": "163efab8a75a0d0b",
   "outputs": [],
   "execution_count": 35
  },
  {
   "metadata": {
    "ExecuteTime": {
     "end_time": "2025-03-06T02:48:18.221643Z",
     "start_time": "2025-03-06T02:48:10.756481Z"
    }
   },
   "cell_type": "code",
   "source": [
    "signed_tx = w3.eth.account.sign_transaction(tx, from_address_prv)\n",
    "\n",
    "tx_hash = w3.eth.send_raw_transaction(signed_tx.raw_transaction)\n",
    "\n",
    "print(f\"Transaction hash: {w3.to_hex(tx_hash)}\")\n",
    "\n",
    "# Ждем получения receipt\n",
    "tx_receipt = w3.eth.wait_for_transaction_receipt(tx_hash)\n",
    "print(f\"Contract deployed at address: {tx_receipt.contractAddress}\")"
   ],
   "id": "8e322e1fadcb95d9",
   "outputs": [
    {
     "name": "stdout",
     "output_type": "stream",
     "text": [
      "Transaction hash: 0x7ea96b0575345a45cf8b237621924efedeb1806fc2a12aca23ace99e8a0ce755\n",
      "Contract deployed at address: 0x8F0342A7060e76dfc7F6e9dEbfAD9b9eC919952c\n"
     ]
    }
   ],
   "execution_count": 36
  },
  {
   "metadata": {
    "ExecuteTime": {
     "end_time": "2025-03-06T02:48:21.905442Z",
     "start_time": "2025-03-06T02:48:21.899694Z"
    }
   },
   "cell_type": "code",
   "source": [
    "contract_address = tx_receipt.contractAddress\n",
    "contract = w3.eth.contract(address=contract_address, abi=abi)"
   ],
   "id": "3a16785e8d38f450",
   "outputs": [],
   "execution_count": 37
  },
  {
   "metadata": {
    "ExecuteTime": {
     "end_time": "2025-03-06T02:57:12.917086Z",
     "start_time": "2025-03-06T02:57:12.909132Z"
    }
   },
   "cell_type": "code",
   "source": [
    "def call(contactCall):\n",
    "\tnonce = w3.eth.get_transaction_count(from_address)\n",
    "\n",
    "\ttx = contactCall.build_transaction({\n",
    "\t\t'from': from_address,\n",
    "\t\t'nonce': nonce,\n",
    "\t\t'gas': 300000,\n",
    "\t\t'gasPrice': w3.to_wei('1', 'gwei')\n",
    "\t})\n",
    "\t\n",
    "\tsigned_tx = w3.eth.account.sign_transaction(tx, from_address_prv)\n",
    "\ttx_hash = w3.eth.send_raw_transaction(signed_tx.raw_transaction)\n",
    "\tw3.eth.wait_for_transaction_receipt(tx_hash)\n",
    "\tprint(f\"Transaction sent! Hash: {w3.to_hex(tx_hash)}\")"
   ],
   "id": "602e72396a6adc37",
   "outputs": [],
   "execution_count": 58
  },
  {
   "metadata": {
    "ExecuteTime": {
     "end_time": "2025-03-06T02:57:54.335024Z",
     "start_time": "2025-03-06T02:57:34.786625Z"
    }
   },
   "cell_type": "code",
   "source": [
    "call(contract.functions.setCell(1, 0, False))\n",
    "\n",
    "isActive = contract.functions.isAlive(1, 0).call()\n",
    "print(f\"Активно: {isActive}\")\n",
    "\n",
    "call(contract.functions.nextGeneration())\n",
    "\n",
    "grids = contract.functions.getActiveCells().call()\n",
    "print(f\"Клетки: {grids}\")"
   ],
   "id": "b96052f6dae7cb9e",
   "outputs": [
    {
     "name": "stdout",
     "output_type": "stream",
     "text": [
      "Transaction sent! Hash: 0xef7df0221a803c9aac9901bc9ff915e163d698edc55ab20937540364891c8b34\n",
      "Активно: False\n",
      "Transaction sent! Hash: 0xf7403f1c19bd5ee5e4a742bf189e4793dc027206e7bd9be6f0d9fe14aa842101\n",
      "Клетки: []\n"
     ]
    }
   ],
   "execution_count": 60
  }
 ],
 "metadata": {
  "kernelspec": {
   "display_name": "Python 3",
   "language": "python",
   "name": "python3"
  },
  "language_info": {
   "codemirror_mode": {
    "name": "ipython",
    "version": 2
   },
   "file_extension": ".py",
   "mimetype": "text/x-python",
   "name": "python",
   "nbconvert_exporter": "python",
   "pygments_lexer": "ipython2",
   "version": "2.7.6"
  }
 },
 "nbformat": 4,
 "nbformat_minor": 5
}
